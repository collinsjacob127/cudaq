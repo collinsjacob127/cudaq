{
 "cells": [
  {
   "cell_type": "markdown",
   "metadata": {},
   "source": [
    "# Generalized Grover's Algorithm in CudaQ"
   ]
  },
  {
   "cell_type": "code",
   "execution_count": 1,
   "metadata": {},
   "outputs": [],
   "source": [
    "import numpy as np\n",
    "import cudaq"
   ]
  },
  {
   "cell_type": "markdown",
   "metadata": {},
   "source": [
    "## CudaQ Docs Grover's Example\n",
    "\n",
    "If anyone can figure out how this is supposed to run, be my guest."
   ]
  },
  {
   "cell_type": "code",
   "execution_count": null,
   "metadata": {},
   "outputs": [],
   "source": [
    "# @cudaq.kernel\n",
    "# def reflect(qubits: cudaq.qview):\n",
    "#     ctrls = qubits.front(qubits.size() - 1)\n",
    "#     last = qubits.back()\n",
    "#     cudaq.compute_action(lambda: (h(qubits), x(qubits)),\n",
    "#                           lambda: z.ctrl(ctrls, last))\n",
    "\n",
    "# @cudaq.kernel\n",
    "# def oracle(q: cudaq.qview):\n",
    "#     z.ctrl(q[0], q[2])\n",
    "#     z.ctrl(q[1], q[2])\n",
    "\n",
    "# @cudaq.kernel\n",
    "# def grover(N: int, M: int, oracle: Callable[[cudaq.qview], None]):\n",
    "#     q = cudaq.qvector(N)\n",
    "#     h(q)\n",
    "#     for i in range(M):\n",
    "#         oracle(q)\n",
    "#         reflect(q)\n",
    "#     mz(q)\n",
    "\n",
    "# counts = cudaq.sample(grover, 3, 1, oracle)\n",
    "# assert len(counts) == 2\n",
    "# assert '101' in counts\n",
    "# assert '011' in counts"
   ]
  },
  {
   "cell_type": "markdown",
   "metadata": {},
   "source": [
    "## Generalized Grover's"
   ]
  },
  {
   "cell_type": "markdown",
   "metadata": {},
   "source": [
    "### Multi-Control Toffoli Gate"
   ]
  },
  {
   "cell_type": "code",
   "execution_count": 7,
   "metadata": {},
   "outputs": [
    {
     "name": "stdout",
     "output_type": "stream",
     "text": [
      "{ 11110:1000 }\n",
      "\n"
     ]
    }
   ],
   "source": [
    "@cudaq.kernel\n",
    "def kernel():\n",
    "    qvector = cudaq.qvector(5)\n",
    "    x(qvector)\n",
    "    x.ctrl(qvector[0:3], qvector[4])\n",
    "    mz(qvector)\n",
    "\n",
    "\n",
    "results = cudaq.sample(kernel)\n",
    "print(results)"
   ]
  },
  {
   "cell_type": "code",
   "execution_count": 56,
   "metadata": {},
   "outputs": [],
   "source": [
    "DEBUG = True\n",
    "\n",
    "@cudaq.kernel\n",
    "def init_qbits(reg: cudaq.qview, val: 'int'):\n",
    "    # Convert decimal input to binary, clear 0b prefix\n",
    "    for index, bit in enumerate(reg):\n",
    "        if index == val:\n",
    "            x(bit)\n",
    "\n",
    "\n",
    "\n",
    "# @cudaq.kernel\n",
    "# def oracle(register: cudaq.qview, auxillary_qubit: cudaq.qubit,\n",
    "#            hidden_bits: List[int]):\n",
    "#     for index, bit in enumerate(hidden_bits):\n",
    "#         if bit == 1:\n",
    "#             # apply a `cx` gate with the current qubit as\n",
    "#             # the control and the auxillary qubit as the target.\n",
    "#             x.ctrl(register[index], auxillary_qubit)"
   ]
  },
  {
   "cell_type": "code",
   "execution_count": 57,
   "metadata": {},
   "outputs": [
    {
     "ename": "UnboundLocalError",
     "evalue": "local variable 'id' referenced before assignment",
     "output_type": "error",
     "traceback": [
      "\u001b[0;31m---------------------------------------------------------------------------\u001b[0m",
      "\u001b[0;31mUnboundLocalError\u001b[0m                         Traceback (most recent call last)",
      "Cell \u001b[0;32mIn[57], line 14\u001b[0m\n\u001b[1;32m     10\u001b[0m     mz(qubits)\n\u001b[1;32m     13\u001b[0m \u001b[38;5;66;03m# print(cudaq.draw(kernel))\u001b[39;00m\n\u001b[0;32m---> 14\u001b[0m result \u001b[38;5;241m=\u001b[39m \u001b[43mcudaq\u001b[49m\u001b[38;5;241;43m.\u001b[39;49m\u001b[43msample\u001b[49m\u001b[43m(\u001b[49m\u001b[43mkernel\u001b[49m\u001b[43m)\u001b[49m\n\u001b[1;32m     15\u001b[0m \u001b[38;5;28mprint\u001b[39m(result)\n",
      "File \u001b[0;32m~/anaconda3/envs/cudaq/lib/python3.10/site-packages/cudaq/runtime/sample.py:87\u001b[0m, in \u001b[0;36msample\u001b[0;34m(kernel, shots_count, noise_model, *args)\u001b[0m\n\u001b[1;32m     84\u001b[0m             cudaq_runtime\u001b[38;5;241m.\u001b[39msetExecutionContext(ctx)\n\u001b[1;32m     85\u001b[0m     \u001b[38;5;28;01mreturn\u001b[39;00m counts\n\u001b[0;32m---> 87\u001b[0m \u001b[43mkernel\u001b[49m\u001b[43m(\u001b[49m\u001b[38;5;241;43m*\u001b[39;49m\u001b[43margs\u001b[49m\u001b[43m)\u001b[49m\n\u001b[1;32m     88\u001b[0m res \u001b[38;5;241m=\u001b[39m ctx\u001b[38;5;241m.\u001b[39mresult\n\u001b[1;32m     89\u001b[0m cudaq_runtime\u001b[38;5;241m.\u001b[39mresetExecutionContext()\n",
      "File \u001b[0;32m~/anaconda3/envs/cudaq/lib/python3.10/site-packages/cudaq/kernel/kernel_decorator.py:347\u001b[0m, in \u001b[0;36mPyKernelDecorator.__call__\u001b[0;34m(self, *args)\u001b[0m\n\u001b[1;32m    344\u001b[0m \u001b[38;5;28mself\u001b[39m\u001b[38;5;241m.\u001b[39mcapturedDataStorage \u001b[38;5;241m=\u001b[39m \u001b[38;5;28mself\u001b[39m\u001b[38;5;241m.\u001b[39mcreateStorage()\n\u001b[1;32m    346\u001b[0m \u001b[38;5;66;03m# Compile, no-op if the module is not None\u001b[39;00m\n\u001b[0;32m--> 347\u001b[0m \u001b[38;5;28;43mself\u001b[39;49m\u001b[38;5;241;43m.\u001b[39;49m\u001b[43mcompile\u001b[49m\u001b[43m(\u001b[49m\u001b[43m)\u001b[49m\n\u001b[1;32m    349\u001b[0m \u001b[38;5;28;01mif\u001b[39;00m \u001b[38;5;28mlen\u001b[39m(args) \u001b[38;5;241m!=\u001b[39m \u001b[38;5;28mlen\u001b[39m(\u001b[38;5;28mself\u001b[39m\u001b[38;5;241m.\u001b[39margTypes):\n\u001b[1;32m    350\u001b[0m     emitFatalError(\n\u001b[1;32m    351\u001b[0m         \u001b[38;5;124mf\u001b[39m\u001b[38;5;124m\"\u001b[39m\u001b[38;5;124mIncorrect number of runtime arguments provided to kernel `\u001b[39m\u001b[38;5;132;01m{\u001b[39;00m\u001b[38;5;28mself\u001b[39m\u001b[38;5;241m.\u001b[39mname\u001b[38;5;132;01m}\u001b[39;00m\u001b[38;5;124m` (\u001b[39m\u001b[38;5;132;01m{\u001b[39;00m\u001b[38;5;28mlen\u001b[39m(\u001b[38;5;28mself\u001b[39m\u001b[38;5;241m.\u001b[39margTypes)\u001b[38;5;132;01m}\u001b[39;00m\u001b[38;5;124m required, \u001b[39m\u001b[38;5;132;01m{\u001b[39;00m\u001b[38;5;28mlen\u001b[39m(args)\u001b[38;5;132;01m}\u001b[39;00m\u001b[38;5;124m provided)\u001b[39m\u001b[38;5;124m\"\u001b[39m\n\u001b[1;32m    352\u001b[0m     )\n",
      "File \u001b[0;32m~/anaconda3/envs/cudaq/lib/python3.10/site-packages/cudaq/kernel/kernel_decorator.py:203\u001b[0m, in \u001b[0;36mPyKernelDecorator.compile\u001b[0;34m(self)\u001b[0m\n\u001b[1;32m    200\u001b[0m \u001b[38;5;28;01mif\u001b[39;00m \u001b[38;5;28mself\u001b[39m\u001b[38;5;241m.\u001b[39mmodule \u001b[38;5;241m!=\u001b[39m \u001b[38;5;28;01mNone\u001b[39;00m:\n\u001b[1;32m    201\u001b[0m     \u001b[38;5;28;01mreturn\u001b[39;00m\n\u001b[0;32m--> 203\u001b[0m \u001b[38;5;28mself\u001b[39m\u001b[38;5;241m.\u001b[39mmodule, \u001b[38;5;28mself\u001b[39m\u001b[38;5;241m.\u001b[39margTypes, extraMetadata \u001b[38;5;241m=\u001b[39m \u001b[43mcompile_to_mlir\u001b[49m\u001b[43m(\u001b[49m\n\u001b[1;32m    204\u001b[0m \u001b[43m    \u001b[49m\u001b[38;5;28;43mself\u001b[39;49m\u001b[38;5;241;43m.\u001b[39;49m\u001b[43mastModule\u001b[49m\u001b[43m,\u001b[49m\n\u001b[1;32m    205\u001b[0m \u001b[43m    \u001b[49m\u001b[38;5;28;43mself\u001b[39;49m\u001b[38;5;241;43m.\u001b[39;49m\u001b[43mmetadata\u001b[49m\u001b[43m,\u001b[49m\n\u001b[1;32m    206\u001b[0m \u001b[43m    \u001b[49m\u001b[38;5;28;43mself\u001b[39;49m\u001b[38;5;241;43m.\u001b[39;49m\u001b[43mcapturedDataStorage\u001b[49m\u001b[43m,\u001b[49m\n\u001b[1;32m    207\u001b[0m \u001b[43m    \u001b[49m\u001b[43mverbose\u001b[49m\u001b[38;5;241;43m=\u001b[39;49m\u001b[38;5;28;43mself\u001b[39;49m\u001b[38;5;241;43m.\u001b[39;49m\u001b[43mverbose\u001b[49m\u001b[43m,\u001b[49m\n\u001b[1;32m    208\u001b[0m \u001b[43m    \u001b[49m\u001b[43mreturnType\u001b[49m\u001b[38;5;241;43m=\u001b[39;49m\u001b[38;5;28;43mself\u001b[39;49m\u001b[38;5;241;43m.\u001b[39;49m\u001b[43mreturnType\u001b[49m\u001b[43m,\u001b[49m\n\u001b[1;32m    209\u001b[0m \u001b[43m    \u001b[49m\u001b[43mlocation\u001b[49m\u001b[38;5;241;43m=\u001b[39;49m\u001b[38;5;28;43mself\u001b[39;49m\u001b[38;5;241;43m.\u001b[39;49m\u001b[43mlocation\u001b[49m\u001b[43m,\u001b[49m\n\u001b[1;32m    210\u001b[0m \u001b[43m    \u001b[49m\u001b[43mparentVariables\u001b[49m\u001b[38;5;241;43m=\u001b[39;49m\u001b[38;5;28;43mself\u001b[39;49m\u001b[38;5;241;43m.\u001b[39;49m\u001b[43mglobalScopedVars\u001b[49m\u001b[43m)\u001b[49m\n\u001b[1;32m    212\u001b[0m \u001b[38;5;66;03m# Grab the dependent capture variables, if any\u001b[39;00m\n\u001b[1;32m    213\u001b[0m \u001b[38;5;28mself\u001b[39m\u001b[38;5;241m.\u001b[39mdependentCaptures \u001b[38;5;241m=\u001b[39m extraMetadata[\n\u001b[1;32m    214\u001b[0m     \u001b[38;5;124m'\u001b[39m\u001b[38;5;124mdependent_captures\u001b[39m\u001b[38;5;124m'\u001b[39m] \u001b[38;5;28;01mif\u001b[39;00m \u001b[38;5;124m'\u001b[39m\u001b[38;5;124mdependent_captures\u001b[39m\u001b[38;5;124m'\u001b[39m \u001b[38;5;129;01min\u001b[39;00m extraMetadata \u001b[38;5;28;01melse\u001b[39;00m \u001b[38;5;28;01mNone\u001b[39;00m\n",
      "File \u001b[0;32m~/anaconda3/envs/cudaq/lib/python3.10/site-packages/cudaq/kernel/ast_bridge.py:3796\u001b[0m, in \u001b[0;36mcompile_to_mlir\u001b[0;34m(astModule, metadata, capturedDataStorage, **kwargs)\u001b[0m\n\u001b[1;32m   3790\u001b[0m \u001b[38;5;28;01mfor\u001b[39;00m funcName \u001b[38;5;129;01min\u001b[39;00m sortedOrder:\n\u001b[1;32m   3791\u001b[0m     \u001b[38;5;28;01mif\u001b[39;00m funcName \u001b[38;5;241m!=\u001b[39m vis\u001b[38;5;241m.\u001b[39mkernelName \u001b[38;5;129;01mand\u001b[39;00m funcName \u001b[38;5;129;01min\u001b[39;00m depKernels:\n\u001b[1;32m   3792\u001b[0m         \u001b[38;5;66;03m# Build an AST Bridge and visit the dependent kernel\u001b[39;00m\n\u001b[1;32m   3793\u001b[0m         \u001b[38;5;66;03m# function. Provide the dependent kernel source location as well.\u001b[39;00m\n\u001b[1;32m   3794\u001b[0m         \u001b[43mPyASTBridge\u001b[49m\u001b[43m(\u001b[49m\u001b[43mcapturedDataStorage\u001b[49m\u001b[43m,\u001b[49m\n\u001b[1;32m   3795\u001b[0m \u001b[43m                    \u001b[49m\u001b[43mexistingModule\u001b[49m\u001b[38;5;241;43m=\u001b[39;49m\u001b[43mbridge\u001b[49m\u001b[38;5;241;43m.\u001b[39;49m\u001b[43mmodule\u001b[49m\u001b[43m,\u001b[49m\n\u001b[0;32m-> 3796\u001b[0m \u001b[43m                    \u001b[49m\u001b[43mlocationOffset\u001b[49m\u001b[38;5;241;43m=\u001b[39;49m\u001b[43mdepKernels\u001b[49m\u001b[43m[\u001b[49m\u001b[43mfuncName\u001b[49m\u001b[43m]\u001b[49m\u001b[43m[\u001b[49m\u001b[38;5;241;43m1\u001b[39;49m\u001b[43m]\u001b[49m\u001b[43m)\u001b[49m\u001b[38;5;241;43m.\u001b[39;49m\u001b[43mvisit\u001b[49m\u001b[43m(\u001b[49m\n\u001b[1;32m   3797\u001b[0m \u001b[43m                        \u001b[49m\u001b[43mdepKernels\u001b[49m\u001b[43m[\u001b[49m\u001b[43mfuncName\u001b[49m\u001b[43m]\u001b[49m\u001b[43m[\u001b[49m\u001b[38;5;241;43m0\u001b[39;49m\u001b[43m]\u001b[49m\u001b[43m)\u001b[49m\n\u001b[1;32m   3799\u001b[0m \u001b[38;5;66;03m# Build the MLIR Module for this kernel\u001b[39;00m\n\u001b[1;32m   3800\u001b[0m bridge\u001b[38;5;241m.\u001b[39mvisit(astModule)\n",
      "File \u001b[0;32m~/anaconda3/envs/cudaq/lib/python3.10/ast.py:418\u001b[0m, in \u001b[0;36mNodeVisitor.visit\u001b[0;34m(self, node)\u001b[0m\n\u001b[1;32m    416\u001b[0m method \u001b[38;5;241m=\u001b[39m \u001b[38;5;124m'\u001b[39m\u001b[38;5;124mvisit_\u001b[39m\u001b[38;5;124m'\u001b[39m \u001b[38;5;241m+\u001b[39m node\u001b[38;5;241m.\u001b[39m\u001b[38;5;18m__class__\u001b[39m\u001b[38;5;241m.\u001b[39m\u001b[38;5;18m__name__\u001b[39m\n\u001b[1;32m    417\u001b[0m visitor \u001b[38;5;241m=\u001b[39m \u001b[38;5;28mgetattr\u001b[39m(\u001b[38;5;28mself\u001b[39m, method, \u001b[38;5;28mself\u001b[39m\u001b[38;5;241m.\u001b[39mgeneric_visit)\n\u001b[0;32m--> 418\u001b[0m \u001b[38;5;28;01mreturn\u001b[39;00m \u001b[43mvisitor\u001b[49m\u001b[43m(\u001b[49m\u001b[43mnode\u001b[49m\u001b[43m)\u001b[49m\n",
      "File \u001b[0;32m~/anaconda3/envs/cudaq/lib/python3.10/site-packages/cudaq/kernel/ast_bridge.py:822\u001b[0m, in \u001b[0;36mPyASTBridge.generic_visit\u001b[0;34m(self, node)\u001b[0m\n\u001b[1;32m    820\u001b[0m     \u001b[38;5;28;01mfor\u001b[39;00m item \u001b[38;5;129;01min\u001b[39;00m value:\n\u001b[1;32m    821\u001b[0m         \u001b[38;5;28;01mif\u001b[39;00m \u001b[38;5;28misinstance\u001b[39m(item, ast\u001b[38;5;241m.\u001b[39mAST):\n\u001b[0;32m--> 822\u001b[0m             \u001b[38;5;28;43mself\u001b[39;49m\u001b[38;5;241;43m.\u001b[39;49m\u001b[43mvisit\u001b[49m\u001b[43m(\u001b[49m\u001b[43mitem\u001b[49m\u001b[43m)\u001b[49m\n\u001b[1;32m    823\u001b[0m \u001b[38;5;28;01melif\u001b[39;00m \u001b[38;5;28misinstance\u001b[39m(value, ast\u001b[38;5;241m.\u001b[39mAST):\n\u001b[1;32m    824\u001b[0m     \u001b[38;5;28mself\u001b[39m\u001b[38;5;241m.\u001b[39mvisit(value)\n",
      "File \u001b[0;32m~/anaconda3/envs/cudaq/lib/python3.10/ast.py:418\u001b[0m, in \u001b[0;36mNodeVisitor.visit\u001b[0;34m(self, node)\u001b[0m\n\u001b[1;32m    416\u001b[0m method \u001b[38;5;241m=\u001b[39m \u001b[38;5;124m'\u001b[39m\u001b[38;5;124mvisit_\u001b[39m\u001b[38;5;124m'\u001b[39m \u001b[38;5;241m+\u001b[39m node\u001b[38;5;241m.\u001b[39m\u001b[38;5;18m__class__\u001b[39m\u001b[38;5;241m.\u001b[39m\u001b[38;5;18m__name__\u001b[39m\n\u001b[1;32m    417\u001b[0m visitor \u001b[38;5;241m=\u001b[39m \u001b[38;5;28mgetattr\u001b[39m(\u001b[38;5;28mself\u001b[39m, method, \u001b[38;5;28mself\u001b[39m\u001b[38;5;241m.\u001b[39mgeneric_visit)\n\u001b[0;32m--> 418\u001b[0m \u001b[38;5;28;01mreturn\u001b[39;00m \u001b[43mvisitor\u001b[49m\u001b[43m(\u001b[49m\u001b[43mnode\u001b[49m\u001b[43m)\u001b[49m\n",
      "File \u001b[0;32m~/anaconda3/envs/cudaq/lib/python3.10/site-packages/cudaq/kernel/ast_bridge.py:869\u001b[0m, in \u001b[0;36mPyASTBridge.visit_FunctionDef\u001b[0;34m(self, node)\u001b[0m\n\u001b[1;32m    865\u001b[0m \u001b[38;5;28mself\u001b[39m\u001b[38;5;241m.\u001b[39mdocstring \u001b[38;5;241m=\u001b[39m ast\u001b[38;5;241m.\u001b[39mget_docstring(node)\n\u001b[1;32m    867\u001b[0m \u001b[38;5;66;03m# Get the argument types and argument names\u001b[39;00m\n\u001b[1;32m    868\u001b[0m \u001b[38;5;66;03m# this will throw an error if the types aren't annotated\u001b[39;00m\n\u001b[0;32m--> 869\u001b[0m \u001b[38;5;28mself\u001b[39m\u001b[38;5;241m.\u001b[39margTypes \u001b[38;5;241m=\u001b[39m [\n\u001b[1;32m    870\u001b[0m     \u001b[38;5;28mself\u001b[39m\u001b[38;5;241m.\u001b[39mmlirTypeFromAnnotation(arg\u001b[38;5;241m.\u001b[39mannotation)\n\u001b[1;32m    871\u001b[0m     \u001b[38;5;28;01mfor\u001b[39;00m arg \u001b[38;5;129;01min\u001b[39;00m node\u001b[38;5;241m.\u001b[39margs\u001b[38;5;241m.\u001b[39margs\n\u001b[1;32m    872\u001b[0m ]\n\u001b[1;32m    873\u001b[0m \u001b[38;5;66;03m# Get the argument names\u001b[39;00m\n\u001b[1;32m    874\u001b[0m argNames \u001b[38;5;241m=\u001b[39m [arg\u001b[38;5;241m.\u001b[39marg \u001b[38;5;28;01mfor\u001b[39;00m arg \u001b[38;5;129;01min\u001b[39;00m node\u001b[38;5;241m.\u001b[39margs\u001b[38;5;241m.\u001b[39margs]\n",
      "File \u001b[0;32m~/anaconda3/envs/cudaq/lib/python3.10/site-packages/cudaq/kernel/ast_bridge.py:870\u001b[0m, in \u001b[0;36m<listcomp>\u001b[0;34m(.0)\u001b[0m\n\u001b[1;32m    865\u001b[0m \u001b[38;5;28mself\u001b[39m\u001b[38;5;241m.\u001b[39mdocstring \u001b[38;5;241m=\u001b[39m ast\u001b[38;5;241m.\u001b[39mget_docstring(node)\n\u001b[1;32m    867\u001b[0m \u001b[38;5;66;03m# Get the argument types and argument names\u001b[39;00m\n\u001b[1;32m    868\u001b[0m \u001b[38;5;66;03m# this will throw an error if the types aren't annotated\u001b[39;00m\n\u001b[1;32m    869\u001b[0m \u001b[38;5;28mself\u001b[39m\u001b[38;5;241m.\u001b[39margTypes \u001b[38;5;241m=\u001b[39m [\n\u001b[0;32m--> 870\u001b[0m     \u001b[38;5;28;43mself\u001b[39;49m\u001b[38;5;241;43m.\u001b[39;49m\u001b[43mmlirTypeFromAnnotation\u001b[49m\u001b[43m(\u001b[49m\u001b[43marg\u001b[49m\u001b[38;5;241;43m.\u001b[39;49m\u001b[43mannotation\u001b[49m\u001b[43m)\u001b[49m\n\u001b[1;32m    871\u001b[0m     \u001b[38;5;28;01mfor\u001b[39;00m arg \u001b[38;5;129;01min\u001b[39;00m node\u001b[38;5;241m.\u001b[39margs\u001b[38;5;241m.\u001b[39margs\n\u001b[1;32m    872\u001b[0m ]\n\u001b[1;32m    873\u001b[0m \u001b[38;5;66;03m# Get the argument names\u001b[39;00m\n\u001b[1;32m    874\u001b[0m argNames \u001b[38;5;241m=\u001b[39m [arg\u001b[38;5;241m.\u001b[39marg \u001b[38;5;28;01mfor\u001b[39;00m arg \u001b[38;5;129;01min\u001b[39;00m node\u001b[38;5;241m.\u001b[39margs\u001b[38;5;241m.\u001b[39margs]\n",
      "File \u001b[0;32m~/anaconda3/envs/cudaq/lib/python3.10/site-packages/cudaq/kernel/ast_bridge.py:656\u001b[0m, in \u001b[0;36mPyASTBridge.mlirTypeFromAnnotation\u001b[0;34m(self, annotation)\u001b[0m\n\u001b[1;32m    654\u001b[0m msg \u001b[38;5;241m=\u001b[39m \u001b[38;5;28;01mNone\u001b[39;00m\n\u001b[1;32m    655\u001b[0m \u001b[38;5;28;01mtry\u001b[39;00m:\n\u001b[0;32m--> 656\u001b[0m     \u001b[38;5;28;01mreturn\u001b[39;00m \u001b[43mmlirTypeFromAnnotation\u001b[49m\u001b[43m(\u001b[49m\u001b[43mannotation\u001b[49m\u001b[43m,\u001b[49m\u001b[43m \u001b[49m\u001b[38;5;28;43mself\u001b[39;49m\u001b[38;5;241;43m.\u001b[39;49m\u001b[43mctx\u001b[49m\u001b[43m,\u001b[49m\u001b[43m \u001b[49m\u001b[43mraiseError\u001b[49m\u001b[38;5;241;43m=\u001b[39;49m\u001b[38;5;28;43;01mTrue\u001b[39;49;00m\u001b[43m)\u001b[49m\n\u001b[1;32m    657\u001b[0m \u001b[38;5;28;01mexcept\u001b[39;00m \u001b[38;5;167;01mRuntimeError\u001b[39;00m \u001b[38;5;28;01mas\u001b[39;00m e:\n\u001b[1;32m    658\u001b[0m     msg \u001b[38;5;241m=\u001b[39m \u001b[38;5;28mstr\u001b[39m(e)\n",
      "File \u001b[0;32m~/anaconda3/envs/cudaq/lib/python3.10/site-packages/cudaq/kernel/utils.py:186\u001b[0m, in \u001b[0;36mmlirTypeFromAnnotation\u001b[0;34m(annotation, ctx, raiseError)\u001b[0m\n\u001b[1;32m    181\u001b[0m \u001b[38;5;28;01melse\u001b[39;00m:\n\u001b[1;32m    182\u001b[0m     localEmitFatalError(\n\u001b[1;32m    183\u001b[0m         \u001b[38;5;124mf\u001b[39m\u001b[38;5;124m\"\u001b[39m\u001b[38;5;132;01m{\u001b[39;00mast\u001b[38;5;241m.\u001b[39munparse(annotation)\u001b[38;5;250m \u001b[39m\u001b[38;5;28;01mif\u001b[39;00m\u001b[38;5;250m \u001b[39m\u001b[38;5;28mhasattr\u001b[39m(ast,\u001b[38;5;250m \u001b[39m\u001b[38;5;124m'\u001b[39m\u001b[38;5;124munparse\u001b[39m\u001b[38;5;124m'\u001b[39m)\u001b[38;5;250m \u001b[39m\u001b[38;5;28;01melse\u001b[39;00m\u001b[38;5;250m \u001b[39mannotation\u001b[38;5;132;01m}\u001b[39;00m\u001b[38;5;124m is not a supported type yet (could not infer type name).\u001b[39m\u001b[38;5;124m\"\u001b[39m\n\u001b[1;32m    184\u001b[0m     )\n\u001b[0;32m--> 186\u001b[0m \u001b[38;5;28;01mif\u001b[39;00m \u001b[38;5;28;43mid\u001b[39;49m \u001b[38;5;241m==\u001b[39m \u001b[38;5;124m'\u001b[39m\u001b[38;5;124mlist\u001b[39m\u001b[38;5;124m'\u001b[39m \u001b[38;5;129;01mor\u001b[39;00m \u001b[38;5;28mid\u001b[39m \u001b[38;5;241m==\u001b[39m \u001b[38;5;124m'\u001b[39m\u001b[38;5;124mList\u001b[39m\u001b[38;5;124m'\u001b[39m:\n\u001b[1;32m    187\u001b[0m     localEmitFatalError(\n\u001b[1;32m    188\u001b[0m         \u001b[38;5;124m'\u001b[39m\u001b[38;5;124mlist argument annotation must provide element type, e.g. list[float] instead of list.\u001b[39m\u001b[38;5;124m'\u001b[39m\n\u001b[1;32m    189\u001b[0m     )\n\u001b[1;32m    191\u001b[0m \u001b[38;5;28;01mif\u001b[39;00m \u001b[38;5;28mid\u001b[39m \u001b[38;5;241m==\u001b[39m \u001b[38;5;124m'\u001b[39m\u001b[38;5;124mint\u001b[39m\u001b[38;5;124m'\u001b[39m:\n",
      "\u001b[0;31mUnboundLocalError\u001b[0m: local variable 'id' referenced before assignment"
     ]
    }
   ],
   "source": [
    "@cudaq.kernel\n",
    "def kernel():\n",
    "    # Allocate the specified number of qubits - this\n",
    "    # corresponds to the length of the hidden bitstring.\n",
    "    qubits = cudaq.qvector(5)\n",
    "    init_qbits(qubits, 3)\n",
    "\n",
    "    # Apply measurement gates to just the `qubits`\n",
    "    # (excludes the auxillary qubit).\n",
    "    mz(qubits)\n",
    "\n",
    "\n",
    "# print(cudaq.draw(kernel))\n",
    "result = cudaq.sample(kernel)\n",
    "print(result)"
   ]
  },
  {
   "cell_type": "code",
   "execution_count": null,
   "metadata": {},
   "outputs": [],
   "source": [
    "import cudaq\n",
    "import random\n",
    "\n",
    "from typing import List\n",
    "\n",
    "\n",
    "def random_bits(length: int):\n",
    "    bitset = []\n",
    "    for _ in range(length):\n",
    "        bitset.append(random.randint(0, 1))\n",
    "    return bitset\n",
    "\n",
    "\n",
    "# If you have a NVIDIA GPU you can use this example to see\n",
    "# that the GPU-accelerated backends can easily handle a\n",
    "# larger number of qubits compared the CPU-only backend.\n",
    "\n",
    "# Depending on the available memory on your GPU, you can\n",
    "# set the number of qubits to around 30 qubits, and un-comment\n",
    "# the `cudaq.set_target(nvidia)` line.\n",
    "\n",
    "# Note: Without setting the target to the `nvidia` backend,\n",
    "# there will be a noticeable decrease in simulation performance.\n",
    "# This is because the CPU-only backend has difficulty handling\n",
    "# 30+ qubit simulations.\n",
    "\n",
    "qubit_count = 5  # set to around 30 qubits for `nvidia` target\n",
    "# ```\n",
    "# cudaq.set_target(\"nvidia\")\n",
    "# ```\n",
    "\n",
    "# Generate a random, hidden bitstring for the oracle\n",
    "# to encode. Note: we define the bitstring here so\n",
    "# as to be able to return it for verification.\n",
    "hidden_bits = random_bits(qubit_count)\n",
    "\n",
    "\n",
    "@cudaq.kernel\n",
    "def oracle(register: cudaq.qview, auxillary_qubit: cudaq.qubit,\n",
    "           hidden_bits: List[int]):\n",
    "    for index, bit in enumerate(hidden_bits):\n",
    "        if bit == 1:\n",
    "            # apply a `cx` gate with the current qubit as\n",
    "            # the control and the auxillary qubit as the target.\n",
    "            x.ctrl(register[index], auxillary_qubit)\n",
    "\n",
    "\n",
    "@cudaq.kernel\n",
    "def bernstein_vazirani(hidden_bits: List[int]):\n",
    "    # Allocate the specified number of qubits - this\n",
    "    # corresponds to the length of the hidden bitstring.\n",
    "    qubits = cudaq.qvector(len(hidden_bits))\n",
    "    # Allocate an extra auxillary qubit.\n",
    "    auxillary_qubit = cudaq.qubit()\n",
    "\n",
    "    # Prepare the auxillary qubit.\n",
    "    h(auxillary_qubit)\n",
    "    z(auxillary_qubit)\n",
    "\n",
    "    # Place the rest of the register in a superposition state.\n",
    "    h(qubits)\n",
    "\n",
    "    # Query the oracle.\n",
    "    oracle(qubits, auxillary_qubit, hidden_bits)\n",
    "\n",
    "    # Apply another set of Hadamards to the register.\n",
    "    h(qubits)\n",
    "\n",
    "    # Apply measurement gates to just the `qubits`\n",
    "    # (excludes the auxillary qubit).\n",
    "    mz(qubits)\n",
    "\n",
    "\n",
    "print(cudaq.draw(bernstein_vazirani, hidden_bits))\n",
    "result = cudaq.sample(bernstein_vazirani, hidden_bits)\n",
    "\n",
    "print(f\"encoded bitstring = {hidden_bits}\")\n",
    "print(f\"measured state = {result.most_probable()}\")\n",
    "print(\n",
    "    f\"Were we successful? {''.join([str(i) for i in hidden_bits]) == result.most_probable()}\"\n",
    ")"
   ]
  }
 ],
 "metadata": {
  "kernelspec": {
   "display_name": "cudaq",
   "language": "python",
   "name": "cudaq"
  },
  "language_info": {
   "codemirror_mode": {
    "name": "ipython",
    "version": 3
   },
   "file_extension": ".py",
   "mimetype": "text/x-python",
   "name": "python",
   "nbconvert_exporter": "python",
   "pygments_lexer": "ipython3",
   "version": "3.10.13"
  }
 },
 "nbformat": 4,
 "nbformat_minor": 2
}
